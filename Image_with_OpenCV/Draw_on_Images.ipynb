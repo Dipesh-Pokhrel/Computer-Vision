{
  "cells": [
    {
      "cell_type": "markdown",
      "metadata": {
        "id": "hHcj9XuAKAt1"
      },
      "source": [
        "#### Basic Imports:"
      ]
    },
    {
      "cell_type": "code",
      "execution_count": null,
      "metadata": {
        "id": "B35cxK1CJlV4"
      },
      "outputs": [],
      "source": [
        "import cv2\n",
        "import numpy as np \n",
        "import matplotlib.pyplot as plt\n",
        "%matplotlib inline"
      ]
    },
    {
      "cell_type": "markdown",
      "metadata": {
        "id": "R-UDk-qbLV-k"
      },
      "source": [
        "Creating blank image with color channels and specifiying data type as int 16."
      ]
    },
    {
      "cell_type": "code",
      "execution_count": null,
      "metadata": {
        "id": "FSEC2f1BKW7s"
      },
      "outputs": [],
      "source": [
        "blank_img = np.zeros(shape=(512,512,3), dtype=np.int16)"
      ]
    },
    {
      "cell_type": "code",
      "execution_count": null,
      "metadata": {
        "colab": {
          "base_uri": "https://localhost:8080/"
        },
        "id": "M0kPsFS3K2Su",
        "outputId": "ab9604a6-fa01-4c0b-d4ac-68480c20da98"
      },
      "outputs": [
        {
          "data": {
            "text/plain": [
              "(512, 512, 3)"
            ]
          },
          "execution_count": 78,
          "metadata": {},
          "output_type": "execute_result"
        }
      ],
      "source": [
        "blank_img.shape"
      ]
    },
    {
      "cell_type": "code",
      "execution_count": null,
      "metadata": {
        "colab": {
          "base_uri": "https://localhost:8080/"
        },
        "id": "qNd0RkjvLsai",
        "outputId": "734d7c73-8a89-4fd3-e0f6-406ed2ad97c0"
      },
      "outputs": [
        {
          "data": {
            "text/plain": [
              "dtype('int16')"
            ]
          },
          "execution_count": 79,
          "metadata": {},
          "output_type": "execute_result"
        }
      ],
      "source": [
        "blank_img.dtype"
      ]
    },
    {
      "cell_type": "code",
      "execution_count": null,
      "metadata": {
        "colab": {
          "base_uri": "https://localhost:8080/",
          "height": 269
        },
        "id": "jZkCxnWjK6fr",
        "outputId": "dd3a9a70-3e4d-4f82-dce3-18313ce03a94"
      },
      "outputs": [
        {
          "data": {
            "image/png": "[encoded data removed]",
            "text/plain": [
              "<Figure size 432x288 with 1 Axes>"
            ]
          },
          "metadata": {
            "needs_background": "light"
          },
          "output_type": "display_data"
        }
      ],
      "source": [
        "plt.imshow(blank_img);"
      ]
    },
    {
      "cell_type": "markdown",
      "metadata": {
        "id": "m0KhI603LFEs"
      },
      "source": [
        "### Drawing Rectangle on Image:\n",
        "Drawing rectangle on a image with two coordinate points as tuple; pt1: Top left corner and pt2: Bottom Right corner."
      ]
    },
    {
      "cell_type": "code",
      "execution_count": null,
      "metadata": {
        "colab": {
          "base_uri": "https://localhost:8080/"
        },
        "id": "4Q6Z5AffK-5r",
        "outputId": "b2433cb5-91b0-4918-920d-b19a022ae915"
      },
      "outputs": [
        {
          "data": {
            "text/plain": [
              "array([[[0, 0, 0],\n",
              "        [0, 0, 0],\n",
              "        [0, 0, 0],\n",
              "        ...,\n",
              "        [0, 0, 0],\n",
              "        [0, 0, 0],\n",
              "        [0, 0, 0]],\n",
              "\n",
              "       [[0, 0, 0],\n",
              "        [0, 0, 0],\n",
              "        [0, 0, 0],\n",
              "        ...,\n",
              "        [0, 0, 0],\n",
              "        [0, 0, 0],\n",
              "        [0, 0, 0]],\n",
              "\n",
              "       [[0, 0, 0],\n",
              "        [0, 0, 0],\n",
              "        [0, 0, 0],\n",
              "        ...,\n",
              "        [0, 0, 0],\n",
              "        [0, 0, 0],\n",
              "        [0, 0, 0]],\n",
              "\n",
              "       ...,\n",
              "\n",
              "       [[0, 0, 0],\n",
              "        [0, 0, 0],\n",
              "        [0, 0, 0],\n",
              "        ...,\n",
              "        [0, 0, 0],\n",
              "        [0, 0, 0],\n",
              "        [0, 0, 0]],\n",
              "\n",
              "       [[0, 0, 0],\n",
              "        [0, 0, 0],\n",
              "        [0, 0, 0],\n",
              "        ...,\n",
              "        [0, 0, 0],\n",
              "        [0, 0, 0],\n",
              "        [0, 0, 0]],\n",
              "\n",
              "       [[0, 0, 0],\n",
              "        [0, 0, 0],\n",
              "        [0, 0, 0],\n",
              "        ...,\n",
              "        [0, 0, 0],\n",
              "        [0, 0, 0],\n",
              "        [0, 0, 0]]], dtype=int16)"
            ]
          },
          "execution_count": 81,
          "metadata": {},
          "output_type": "execute_result"
        }
      ],
      "source": [
        "cv2.rectangle(blank_img,pt1=(384,10),pt2=(500,150),color = (0,255,0),thickness=10)"
      ]
    },
    {
      "cell_type": "markdown",
      "metadata": {
        "id": "hxOem7U2Nd6z"
      },
      "source": [
        "This happens implace and we plot the image. "
      ]
    },
    {
      "cell_type": "code",
      "execution_count": null,
      "metadata": {
        "colab": {
          "base_uri": "https://localhost:8080/",
          "height": 269
        },
        "id": "ir3hAVyzNR41",
        "outputId": "b7007272-f3f8-4c3c-a855-d28bea296405"
      },
      "outputs": [
        {
          "data": {
            "image/png": "[encoded data removed]",
            "text/plain": [
              "<Figure size 432x288 with 1 Axes>"
            ]
          },
          "metadata": {
            "needs_background": "light"
          },
          "output_type": "display_data"
        }
      ],
      "source": [
        "plt.imshow(blank_img );"
      ]
    },
    {
      "cell_type": "markdown",
      "metadata": {
        "id": "lwtebAMXOHSz"
      },
      "source": [
        "#### Drawing Square on the Image:"
      ]
    },
    {
      "cell_type": "code",
      "execution_count": null,
      "metadata": {
        "colab": {
          "base_uri": "https://localhost:8080/"
        },
        "id": "7j9UX4EFNwDb",
        "outputId": "d13c7e6c-a361-4d16-ef8d-49ac83de2b7c"
      },
      "outputs": [
        {
          "data": {
            "text/plain": [
              "array([[[0, 0, 0],\n",
              "        [0, 0, 0],\n",
              "        [0, 0, 0],\n",
              "        ...,\n",
              "        [0, 0, 0],\n",
              "        [0, 0, 0],\n",
              "        [0, 0, 0]],\n",
              "\n",
              "       [[0, 0, 0],\n",
              "        [0, 0, 0],\n",
              "        [0, 0, 0],\n",
              "        ...,\n",
              "        [0, 0, 0],\n",
              "        [0, 0, 0],\n",
              "        [0, 0, 0]],\n",
              "\n",
              "       [[0, 0, 0],\n",
              "        [0, 0, 0],\n",
              "        [0, 0, 0],\n",
              "        ...,\n",
              "        [0, 0, 0],\n",
              "        [0, 0, 0],\n",
              "        [0, 0, 0]],\n",
              "\n",
              "       ...,\n",
              "\n",
              "       [[0, 0, 0],\n",
              "        [0, 0, 0],\n",
              "        [0, 0, 0],\n",
              "        ...,\n",
              "        [0, 0, 0],\n",
              "        [0, 0, 0],\n",
              "        [0, 0, 0]],\n",
              "\n",
              "       [[0, 0, 0],\n",
              "        [0, 0, 0],\n",
              "        [0, 0, 0],\n",
              "        ...,\n",
              "        [0, 0, 0],\n",
              "        [0, 0, 0],\n",
              "        [0, 0, 0]],\n",
              "\n",
              "       [[0, 0, 0],\n",
              "        [0, 0, 0],\n",
              "        [0, 0, 0],\n",
              "        ...,\n",
              "        [0, 0, 0],\n",
              "        [0, 0, 0],\n",
              "        [0, 0, 0]]], dtype=int16)"
            ]
          },
          "execution_count": 83,
          "metadata": {},
          "output_type": "execute_result"
        }
      ],
      "source": [
        "cv2.rectangle(blank_img,pt1=(200,200), pt2=(300,300),color=(255,0,0),thickness=5)"
      ]
    },
    {
      "cell_type": "code",
      "execution_count": null,
      "metadata": {
        "colab": {
          "base_uri": "https://localhost:8080/",
          "height": 269
        },
        "id": "4dqeI5JhOruQ",
        "outputId": "233254b7-8d76-47ab-f502-7b164b5e9e20"
      },
      "outputs": [
        {
          "data": {
            "image/png": "[encoded data removed]",
            "text/plain": [
              "<Figure size 432x288 with 1 Axes>"
            ]
          },
          "metadata": {
            "needs_background": "light"
          },
          "output_type": "display_data"
        }
      ],
      "source": [
        "plt.imshow(blank_img);"
      ]
    },
    {
      "cell_type": "markdown",
      "metadata": {
        "id": "fCfdkzkWPHPC"
      },
      "source": [
        "#### Drawing circle on the Image:"
      ]
    },
    {
      "cell_type": "code",
      "execution_count": null,
      "metadata": {
        "colab": {
          "base_uri": "https://localhost:8080/",
          "height": 269
        },
        "id": "o-1U2IJzPB-b",
        "outputId": "0ac551a6-0e02-443d-9060-18eff3ff6f0a"
      },
      "outputs": [
        {
          "data": {
            "image/png": "[encoded data removed]",
            "text/plain": [
              "<Figure size 432x288 with 1 Axes>"
            ]
          },
          "metadata": {
            "needs_background": "light"
          },
          "output_type": "display_data"
        }
      ],
      "source": [
        "cv2.circle(blank_img,center=(100,400),radius = 50, color=(0,0,255),thickness=10)\n",
        "plt.imshow(blank_img);"
      ]
    },
    {
      "cell_type": "markdown",
      "metadata": {
        "id": "OsF7DK9DQZM6"
      },
      "source": [
        "By passing negative value in thickness we can fill the circle."
      ]
    },
    {
      "cell_type": "code",
      "execution_count": null,
      "metadata": {
        "colab": {
          "base_uri": "https://localhost:8080/",
          "height": 269
        },
        "id": "35mdTrEqPtMl",
        "outputId": "baca77b3-0e7e-4771-afba-f08e542ae3e4"
      },
      "outputs": [
        {
          "data": {
            "image/png": "[encoded data removed]",
            "text/plain": [
              "<Figure size 432x288 with 1 Axes>"
            ]
          },
          "metadata": {
            "needs_background": "light"
          },
          "output_type": "display_data"
        }
      ],
      "source": [
        "cv2.circle(img=blank_img, center=(400,400),radius=50,color=(255,255,0),thickness=-1)\n",
        "plt.imshow(blank_img);"
      ]
    },
    {
      "cell_type": "markdown",
      "metadata": {
        "id": "T8S7DKeARGjL"
      },
      "source": [
        "#### Drawing line on Image:"
      ]
    },
    {
      "cell_type": "code",
      "execution_count": null,
      "metadata": {
        "colab": {
          "base_uri": "https://localhost:8080/",
          "height": 269
        },
        "id": "XEVN_qjFQ-lq",
        "outputId": "2d8a43f1-37ed-4623-eef3-246063261532"
      },
      "outputs": [
        {
          "data": {
            "image/png": "[encoded data removed]",
            "text/plain": [
              "<Figure size 432x288 with 1 Axes>"
            ]
          },
          "metadata": {
            "needs_background": "light"
          },
          "output_type": "display_data"
        }
      ],
      "source": [
        "cv2.line(blank_img,pt1=(10,10),pt2=(200,100),color=(0,255,255),thickness =10)\n",
        "plt.imshow(blank_img);"
      ]
    },
    {
      "cell_type": "markdown",
      "metadata": {
        "id": "z1D0wC99SheD"
      },
      "source": [
        "#### Writing Text on to an Image:\n",
        "We can choose various font avaliable in cv2."
      ]
    },
    {
      "cell_type": "code",
      "execution_count": null,
      "metadata": {
        "colab": {
          "base_uri": "https://localhost:8080/",
          "height": 269
        },
        "id": "lPEumJ0TRluS",
        "outputId": "ae474eb3-580c-4f10-9984-a4e244107df3"
      },
      "outputs": [
        {
          "data": {
            "image/png": "[encoded data removed]",
            "text/plain": [
              "<Figure size 432x288 with 1 Axes>"
            ]
          },
          "metadata": {
            "needs_background": "light"
          },
          "output_type": "display_data"
        }
      ],
      "source": [
        "font=cv2.FONT_HERSHEY_SIMPLEX # Selecting font.\n",
        "cv2.putText(blank_img,text='Hello',org =(10,500),fontFace=font,fontScale =1, color=(255,255,255),\n",
        "            thickness=3,lineType=cv2.LINE_AA)\n",
        "plt.imshow(blank_img);\n"
      ]
    },
    {
      "cell_type": "markdown",
      "metadata": {
        "id": "FhGixXJcTeKC"
      },
      "source": [
        "Here org is the Bottom left corner og the text string in the image."
      ]
    },
    {
      "cell_type": "markdown",
      "metadata": {
        "id": "JaRr4ChiU4UK"
      },
      "source": [
        "#### Creating Polygons: "
      ]
    },
    {
      "cell_type": "code",
      "execution_count": null,
      "metadata": {
        "id": "tNA8lHFyU3mi"
      },
      "outputs": [],
      "source": [
        "blank_image = np.zeros(shape = (512,512,3),dtype =np.int32)"
      ]
    },
    {
      "cell_type": "code",
      "execution_count": null,
      "metadata": {
        "colab": {
          "base_uri": "https://localhost:8080/",
          "height": 269
        },
        "id": "nIGeDQiORqlZ",
        "outputId": "e7d729fc-b1d0-40e6-eb80-b6e0e7c9b6c3"
      },
      "outputs": [
        {
          "data": {
            "image/png": "[encoded data removed]",
            "text/plain": [
              "<Figure size 432x288 with 1 Axes>"
            ]
          },
          "metadata": {
            "needs_background": "light"
          },
          "output_type": "display_data"
        }
      ],
      "source": [
        "plt.imshow(blank_image);"
      ]
    },
    {
      "cell_type": "markdown",
      "metadata": {
        "id": "mES2kI-aVnCd"
      },
      "source": [
        "To create polygon, we need to decide on the verticies. So we create array and pass the list of coordinate of x and y."
      ]
    },
    {
      "cell_type": "code",
      "execution_count": null,
      "metadata": {
        "id": "fES61EYOVjsg"
      },
      "outputs": [],
      "source": [
        "vertices = np.array([[100,300],[200,200],[400,300],[200,400]],dtype= np.int32)"
      ]
    },
    {
      "cell_type": "code",
      "execution_count": null,
      "metadata": {
        "colab": {
          "base_uri": "https://localhost:8080/"
        },
        "id": "euzVEzOgWs8o",
        "outputId": "5c0e8f98-38f0-4ad4-ad03-91b636cdb3b0"
      },
      "outputs": [
        {
          "data": {
            "text/plain": [
              "array([[100, 300],\n",
              "       [200, 200],\n",
              "       [400, 300],\n",
              "       [200, 400]], dtype=int32)"
            ]
          },
          "execution_count": 94,
          "metadata": {},
          "output_type": "execute_result"
        }
      ],
      "source": [
        "vertices"
      ]
    },
    {
      "cell_type": "code",
      "execution_count": null,
      "metadata": {
        "colab": {
          "base_uri": "https://localhost:8080/"
        },
        "id": "ZK5fM4pBW6Xw",
        "outputId": "8109928f-6832-468b-ef83-fc59560ce8ba"
      },
      "outputs": [
        {
          "data": {
            "text/plain": [
              "(4, 2)"
            ]
          },
          "execution_count": 95,
          "metadata": {},
          "output_type": "execute_result"
        }
      ],
      "source": [
        "vertices.shape"
      ]
    },
    {
      "cell_type": "markdown",
      "metadata": {
        "id": "QfFFmJyLXCqQ"
      },
      "source": [
        "Here, the verticies is in 4 dimensions, cv2 wants 3 dimensions. So reshaping it."
      ]
    },
    {
      "cell_type": "code",
      "execution_count": null,
      "metadata": {
        "colab": {
          "base_uri": "https://localhost:8080/"
        },
        "id": "PiAELSpgW_Ig",
        "outputId": "156fabbd-b18a-4176-fac5-94df98a4fb77"
      },
      "outputs": [
        {
          "data": {
            "text/plain": [
              "array([[[100, 300]],\n",
              "\n",
              "       [[200, 200]],\n",
              "\n",
              "       [[400, 300]],\n",
              "\n",
              "       [[200, 400]]], dtype=int32)"
            ]
          },
          "execution_count": 96,
          "metadata": {},
          "output_type": "execute_result"
        }
      ],
      "source": [
        "pts = vertices.reshape(-1,1,2)\n",
        "pts"
      ]
    },
    {
      "cell_type": "markdown",
      "metadata": {
        "id": "1JyepBWcX5Uw"
      },
      "source": [
        "Looking at the shape of vertices vs the shape of points.\n"
      ]
    },
    {
      "cell_type": "code",
      "execution_count": null,
      "metadata": {
        "colab": {
          "base_uri": "https://localhost:8080/"
        },
        "id": "MOw8tKvTX0_Z",
        "outputId": "9544326c-272c-4c27-b6f9-27325d17664a"
      },
      "outputs": [
        {
          "name": "stdout",
          "output_type": "stream",
          "text": [
            "(4, 2)\n",
            "(4, 1, 2)\n"
          ]
        }
      ],
      "source": [
        "print(vertices.shape)\n",
        "print(pts.shape)"
      ]
    },
    {
      "cell_type": "markdown",
      "metadata": {
        "id": "qeNK47TrYPIW"
      },
      "source": [
        "Here pts added a third dimensions which is just 1. So its keeping the same informations but it is conveted into color channels."
      ]
    },
    {
      "cell_type": "code",
      "execution_count": null,
      "metadata": {
        "colab": {
          "base_uri": "https://localhost:8080/",
          "height": 269
        },
        "id": "p_0eJr09Y1kO",
        "outputId": "0e3c34a7-848f-4115-d687-42ecf6649afb"
      },
      "outputs": [
        {
          "data": {
            "image/png": "[encoded data removed]",
            "text/plain": [
              "<Figure size 432x288 with 1 Axes>"
            ]
          },
          "metadata": {
            "needs_background": "light"
          },
          "output_type": "display_data"
        }
      ],
      "source": [
        "cv2.polylines(blank_image,[pts],isClosed=True,color=(255,0,0),thickness=10)\n",
        "# Passing points as the list.\n",
        "plt.imshow(blank_image);"
      ]
    },
    {
      "cell_type": "markdown",
      "metadata": {
        "id": "A3rpNzquaEMz"
      },
      "source": [
        "#### Drawing Image with Mouse:"
      ]
    },
    {
      "cell_type": "markdown",
      "metadata": {
        "id": "gdFa-_w1aMSY"
      },
      "source": [
        "* We can use CallBacks to connect image to the event functions with OpenCV\n",
        "* This allows us to directly interact with images."
      ]
    },
    {
      "cell_type": "code",
      "execution_count": null,
      "metadata": {
        "id": "dWrc3DDRZelw"
      },
      "outputs": [],
      "source": [
        "import cv2\n",
        "import numpy as np \n",
        "\n",
        "\n",
        "##################\n",
        "## FUNCTION ####\n",
        "def draw_circle(event,x,y,flag,param):\n",
        "  if event == cv2.EVENT_LBUTTONDOWN:\n",
        "    cv2.circle(img,(x,y),100, color=(0,255,0),thickness=-1)\n",
        "cv2.namedWindow(winname='my_drawing') # Connect this function into the image callback\n",
        "cv2.setMouseCallback('my_drawing',draw_circle)\n",
        "\n",
        "################### \n",
        "## SHOWING IMAGE WITH OPENCV ### \n",
        "\n",
        "img = np.zeros(shape=(512,512,3),dtype=np.int8)\n",
        "while True: \n",
        "  cv2.imshow('my_drawing',img)\n",
        "  if cv2.waitKey(20) & 0xFF ==27:\n",
        "    break\n",
        "cv2.destroyAllwindows()\n"
      ]
    }
  ],
  "metadata": {
    "colab": {
      "collapsed_sections": [],
      "name": "Draw on Images",
      "provenance": []
    },
    "kernelspec": {
      "display_name": "Python 3",
      "name": "python3"
    },
    "language_info": {
      "name": "python"
    }
  },
  "nbformat": 4,
  "nbformat_minor": 0
}
